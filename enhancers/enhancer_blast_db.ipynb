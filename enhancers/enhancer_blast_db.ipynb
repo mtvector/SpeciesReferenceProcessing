{
 "cells": [
  {
   "cell_type": "markdown",
   "id": "1e44bb54-4daa-4468-ae2e-777e0a322e60",
   "metadata": {},
   "source": [
    "# Build BLAST DB from sequences, then query against them"
   ]
  },
  {
   "cell_type": "code",
   "execution_count": 157,
   "id": "acc4c0ef-fc8b-44f6-b507-7734d810a895",
   "metadata": {},
   "outputs": [
    {
     "data": {
      "text/plain": [
       "\"\\nif __name__ == '__main__':\\n    # 1. Convert CSV to FASTA\\n    csv_filename = '~/Matthew/data/'\\n    fasta_filename = 'dna_sequences.fasta'\\n    csv_to_fasta(csv_filename, fasta_filename)\\n\\n    # 2. Create BLAST database\\n    db_name = 'dna_sequences_db'\\n    create_blast_db(fasta_filename, db_name)\\n\\n    # 3. Query the BLAST database with test sequences\\n    test_seq_filename = 'test_sequences.fasta'\\n    output_filename = 'blast_results.txt'\\n    query_blast_db(test_seq_filename, db_name, output_filename)\\n\""
      ]
     },
     "execution_count": 157,
     "metadata": {},
     "output_type": "execute_result"
    }
   ],
   "source": [
    "# pip install pandas\n",
    "# conda install -c bioconda blast\n",
    "\n",
    "import csv\n",
    "from subprocess import run\n",
    "import pandas as pd\n",
    "import os\n",
    "\n",
    "def make_unique_index(index):\n",
    "    seen = {}\n",
    "    unique_index = []\n",
    "    for idx in index:\n",
    "        count = seen.get(idx, 0)\n",
    "        if count:\n",
    "            unique_idx = f\"{idx}-{count + 1}\"\n",
    "            while unique_idx in seen:\n",
    "                count += 1\n",
    "                unique_idx = f\"{idx}-{count + 1}\"\n",
    "        else:\n",
    "            unique_idx = idx\n",
    "        unique_index.append(unique_idx)\n",
    "        seen[idx] = count + 1\n",
    "    return unique_index\n",
    "\n",
    "def df_to_fasta(tab, fasta_filename,id_cols=['Enhancer_ID'],seq_col='Enhancer_sequence'):\n",
    "    \"\"\"Takes a pandas df and writes sequences to a FASTA file (give whole path).\"\"\"\n",
    "    tab=tab.loc[~tab[seq_col].isna(),:]\n",
    "    tab.index=tab[id_cols].astype(str).agg('_'.join, axis=1)\n",
    "    tab.index = make_unique_index(tab.index)\n",
    "    with  open(fasta_filename, 'w') as fasta_file:\n",
    "        for row in tab.index:\n",
    "            # Adjust indices as per your CSV structure\n",
    "            fasta_file.write(f'>{row}\\n{tab.loc[row,seq_col]}\\n')\n",
    "\n",
    "def create_blast_db(fasta_filename, db_name,env_bin_path=''):\n",
    "    \"\"\"Creates a BLAST database from the given FASTA file.\"\"\"\n",
    "    cmd = [os.path.join(env_bin_path,'makeblastdb'), '-in', fasta_filename, '-dbtype', 'nucl', '-out', db_name]\n",
    "    run(cmd)\n",
    "\n",
    "def query_blast_db(test_seq, db_name, output_file,other_args=[],env_bin_path=''):\n",
    "    \"\"\"Queries the BLAST database with the given test sequence. Outputs in commented tabular format (outfmt7)\"\"\"\n",
    "    cmd = [os.path.join(env_bin_path,'blastn'), '-query', test_seq, '-db', db_name, '-out', output_file,'-outfmt', '7']+other_args\n",
    "    run(cmd)\n",
    "\n",
    "def read_blast_output7(output):\n",
    "    \"\"\"Reads BLAST outfmt 7 to pandas dataframe.\"\"\"\n",
    "    return(pd.read_csv(output,comment='#',sep='\\t',header=None,\n",
    "               names=[\"qseqid\", \"sseqid\", \"pident\", \"length\", \"mismatch\",\n",
    "                      \"gapopen\", \"qstart\", \"qend\", \"sstart\", \"send\", \"evalue\", \"bitscore\"]))\n",
    "\n"
   ]
  },
  {
   "cell_type": "markdown",
   "id": "f1f0e21e-803c-494a-a089-5a2363a538aa",
   "metadata": {},
   "source": [
    "## Building the database"
   ]
  },
  {
   "cell_type": "code",
   "execution_count": 158,
   "id": "40fdb6d4-5d82-4285-ae23-e2aaec001ef1",
   "metadata": {},
   "outputs": [
    {
     "name": "stdout",
     "output_type": "stream",
     "text": [
      "      Serial Enhancer_ID Enhancer_Alias Target_cell_population_standard  \\\n",
      "0        1.0    AiE0001h      eHGT_001h                             Vip   \n",
      "1        1.0    AiE0001m      eHGT_001m                             Vip   \n",
      "2        2.0    AiE0002m      eHGT_002m                           Pvalb   \n",
      "3        2.0    AiE0002h      eHGT_002h                           Pvalb   \n",
      "4        3.0    AiE0003h      eHGT_003h                           Pvalb   \n",
      "...      ...         ...            ...                             ...   \n",
      "3852     NaN         NaN            NaN                             NaN   \n",
      "3853     NaN         NaN            NaN                             NaN   \n",
      "3854     NaN         NaN            NaN                             NaN   \n",
      "3855     NaN         NaN            NaN                             NaN   \n",
      "3856     NaN         NaN            NaN                             NaN   \n",
      "\n",
      "     Target_cell_population_raw Target_brain_region  \\\n",
      "0                     VIP class                 CTX   \n",
      "1                     VIP class                 CTX   \n",
      "2                   PVALB class                 CTX   \n",
      "3                   PVALB class                 CTX   \n",
      "4                   PVALB class                 CTX   \n",
      "...                         ...                 ...   \n",
      "3852                        NaN                 NaN   \n",
      "3853                        NaN                 NaN   \n",
      "3854                        NaN                 NaN   \n",
      "3855                        NaN                 NaN   \n",
      "3856                        NaN                 NaN   \n",
      "\n",
      "                                      Enhancer_sequence  Enhancer_length  \\\n",
      "0     TGCTCCTGAGTGGTTAGAATGATCCATGAATTGGAAGGACTTCAGT...              526   \n",
      "1     CCAGTGGCTAGACTGAAGGACCCTTTGGAAGGGCTTCAGTTTGCAT...              559   \n",
      "2     TTCAAATATGCATATTACAGATCTTCAGTCCCTTCTTTCCCTCATG...              590   \n",
      "3     TGAATACAATTTGATGATGGCTTCCCCACCCCACCTACTCTCTACT...              769   \n",
      "4     TTTCCTTCTTACAGTGTGATAGACTACCTTCGGGTCTATGCTTCTC...              401   \n",
      "...                                                 ...              ...   \n",
      "3852                                                NaN                0   \n",
      "3853                                                NaN                0   \n",
      "3854                                                NaN                0   \n",
      "3855                                                NaN                0   \n",
      "3856                                                NaN                0   \n",
      "\n",
      "     Enhancer_type Species  ... Unnamed: 20 Unnamed: 21 Unnamed: 22  \\\n",
      "0         Enhancer    hg38  ...         NaN         NaN         NaN   \n",
      "1         Enhancer    mm10  ...         NaN         NaN         NaN   \n",
      "2         Enhancer    mm10  ...         NaN         NaN         NaN   \n",
      "3         Enhancer    hg38  ...         NaN         NaN         NaN   \n",
      "4         Enhancer    hg38  ...         NaN         NaN         NaN   \n",
      "...            ...     ...  ...         ...         ...         ...   \n",
      "3852           NaN     NaN  ...         NaN         NaN         NaN   \n",
      "3853           NaN     NaN  ...         NaN         NaN         NaN   \n",
      "3854           NaN     NaN  ...         NaN         NaN         NaN   \n",
      "3855           NaN     NaN  ...         NaN         NaN         NaN   \n",
      "3856           NaN     NaN  ...         NaN         NaN         NaN   \n",
      "\n",
      "     Unnamed: 23 Unnamed: 24 Unnamed: 25  Unnamed: 26 Unnamed: 27  \\\n",
      "0            NaN         NaN         NaN          NaN         NaN   \n",
      "1            NaN         NaN         NaN          NaN         NaN   \n",
      "2            NaN         NaN         NaN          NaN         NaN   \n",
      "3            NaN         NaN         NaN          NaN         NaN   \n",
      "4            NaN         NaN         NaN          NaN         NaN   \n",
      "...          ...         ...         ...          ...         ...   \n",
      "3852         NaN         NaN         NaN          NaN         NaN   \n",
      "3853         NaN         NaN         NaN          NaN         NaN   \n",
      "3854         NaN         NaN         NaN          NaN         NaN   \n",
      "3855         NaN         NaN         NaN          NaN         NaN   \n",
      "3856         NaN         NaN         NaN          NaN         NaN   \n",
      "\n",
      "      Unnamed: 28  Unnamed: 29  \n",
      "0             NaN          NaN  \n",
      "1             NaN          NaN  \n",
      "2             NaN          NaN  \n",
      "3             NaN          NaN  \n",
      "4             NaN          NaN  \n",
      "...           ...          ...  \n",
      "3852          NaN          NaN  \n",
      "3853          NaN          NaN  \n",
      "3854          NaN          NaN  \n",
      "3855          NaN          NaN  \n",
      "3856          NaN          NaN  \n",
      "\n",
      "[3857 rows x 30 columns]\n"
     ]
    }
   ],
   "source": [
    "csv_filename = '~/Matthew/data/Enhancer_library.csv'\n",
    "out_path='/home/matthew.schmitz/Matthew/deliveries/enhancer_blast/'\n",
    "env_bin_path='/allen/programs/celltypes/workgroups/rnaseqanalysis/EvoGen/Team/Matthew/utils/miniconda3/envs/blaster/bin/'\n",
    "#moved loading table out of csv_to_fasta to give more flexibility\n",
    "encoding = 'ISO-8859-1'\n",
    "#Read in CSV\n",
    "tab=pd.read_csv(csv_filename,header=0,sep=',',encoding = encoding)\n",
    "print(tab)\n"
   ]
  },
  {
   "cell_type": "code",
   "execution_count": 160,
   "id": "9cde4f56-4335-4862-a38c-ecd858c543f2",
   "metadata": {},
   "outputs": [],
   "source": [
    "#Write fasta\n",
    "df_to_fasta(tab, fasta_filename=os.path.join(out_path,'enhancers.fa'),id_cols=['Enhancer_ID'],seq_col='Enhancer_sequence')"
   ]
  },
  {
   "cell_type": "code",
   "execution_count": 161,
   "id": "680ac854-85b6-4773-bdfc-e596ec8faf52",
   "metadata": {},
   "outputs": [
    {
     "name": "stdout",
     "output_type": "stream",
     "text": [
      "\n",
      "\n",
      "Building a new DB, current time: 10/23/2023 17:26:25\n",
      "New DB name:   /home/matthew.schmitz/Matthew/deliveries/enhancer_blast/enhancers.db\n",
      "New DB title:  /home/matthew.schmitz/Matthew/deliveries/enhancer_blast/enhancers.fa\n",
      "Sequence type: Nucleotide\n",
      "Deleted existing Nucleotide BLAST database named /home/matthew.schmitz/Matthew/deliveries/enhancer_blast/enhancers.db\n",
      "Keep MBits: T\n",
      "Maximum file size: 1000000000B\n",
      "Adding sequences from FASTA; added 2567 sequences in 0.18595 seconds.\n"
     ]
    }
   ],
   "source": [
    "#build db\n",
    "create_blast_db(fasta_filename=os.path.join(out_path,'enhancers.fa'),\n",
    "                db_name=os.path.join(out_path,'enhancers.db'),\n",
    "               env_bin_path=env_bin_path)"
   ]
  },
  {
   "cell_type": "markdown",
   "id": "95689e27-f409-4442-bf84-dff56dcb7ac3",
   "metadata": {},
   "source": [
    "## Querying the db"
   ]
  },
  {
   "cell_type": "code",
   "execution_count": 162,
   "id": "9f5247d3-b21b-41a9-bc38-53d2d5361cb6",
   "metadata": {},
   "outputs": [],
   "source": [
    "test_dict={'silly_seq1':'GGGGGGGGGGGGGGG',\n",
    "          'silly_seq2':'AATAGACCA',\n",
    "          'silly_seq3':'CATCATCATCATCATCATCATTTTTTTTTTTT',\n",
    "          'silly_seq4':'CCAAATTCACCTCTTTATTCGGATGAGTGAAGGGAATTGCCTGAAGCCCAGAGGAGTATTGATTTTTGAACAATAATTAAAATTTAATGGTGTTAATCAGTTTCACATAGAACTATAAATTTCACCCAAAAGAGCAGATAAATTGTTGAAGAAGAATATCTGAC'}\n",
    "test_df= pd.DataFrame(list(test_dict.items()), columns=['Enhancer_ID', 'Enhancer_sequence'])"
   ]
  },
  {
   "cell_type": "code",
   "execution_count": 163,
   "id": "d6d51373-d199-4c11-9c9d-bebfb618d8c7",
   "metadata": {},
   "outputs": [],
   "source": [
    "df_to_fasta(test_df, fasta_filename=os.path.join(out_path,'test.fa'),id_cols=['Enhancer_ID'],seq_col='Enhancer_sequence')"
   ]
  },
  {
   "cell_type": "code",
   "execution_count": 164,
   "id": "7adc5143-114b-4998-b042-f00263f4f2c5",
   "metadata": {},
   "outputs": [],
   "source": [
    "query_blast_db(test_seq=os.path.join(out_path,'test.fa'),\n",
    "               db_name=os.path.join(out_path,'enhancers.db'),\n",
    "               output_file='/home/matthew.schmitz/test.blast.out',\n",
    "               env_bin_path=env_bin_path)"
   ]
  },
  {
   "cell_type": "code",
   "execution_count": 173,
   "id": "b5ec041b-21cc-44a7-afea-a5f67807609d",
   "metadata": {},
   "outputs": [
    {
     "data": {
      "text/html": [
       "<div>\n",
       "<style scoped>\n",
       "    .dataframe tbody tr th:only-of-type {\n",
       "        vertical-align: middle;\n",
       "    }\n",
       "\n",
       "    .dataframe tbody tr th {\n",
       "        vertical-align: top;\n",
       "    }\n",
       "\n",
       "    .dataframe thead th {\n",
       "        text-align: right;\n",
       "    }\n",
       "</style>\n",
       "<table border=\"1\" class=\"dataframe\">\n",
       "  <thead>\n",
       "    <tr style=\"text-align: right;\">\n",
       "      <th></th>\n",
       "      <th>qseqid</th>\n",
       "      <th>sseqid</th>\n",
       "      <th>pident</th>\n",
       "      <th>length</th>\n",
       "      <th>mismatch</th>\n",
       "      <th>gapopen</th>\n",
       "      <th>qstart</th>\n",
       "      <th>qend</th>\n",
       "      <th>sstart</th>\n",
       "      <th>send</th>\n",
       "      <th>evalue</th>\n",
       "      <th>bitscore</th>\n",
       "    </tr>\n",
       "  </thead>\n",
       "  <tbody>\n",
       "    <tr>\n",
       "      <th>0</th>\n",
       "      <td>silly_seq4</td>\n",
       "      <td>AiE2071m</td>\n",
       "      <td>100.0</td>\n",
       "      <td>164</td>\n",
       "      <td>0</td>\n",
       "      <td>0</td>\n",
       "      <td>1</td>\n",
       "      <td>164</td>\n",
       "      <td>1</td>\n",
       "      <td>164</td>\n",
       "      <td>6.760000e-84</td>\n",
       "      <td>303</td>\n",
       "    </tr>\n",
       "  </tbody>\n",
       "</table>\n",
       "</div>"
      ],
      "text/plain": [
       "       qseqid    sseqid  pident  length  mismatch  gapopen  qstart  qend  \\\n",
       "0  silly_seq4  AiE2071m   100.0     164         0        0       1   164   \n",
       "\n",
       "   sstart  send        evalue  bitscore  \n",
       "0       1   164  6.760000e-84       303  "
      ]
     },
     "execution_count": 173,
     "metadata": {},
     "output_type": "execute_result"
    }
   ],
   "source": [
    "output='/home/matthew.schmitz/test.blast.out'\n",
    "read_blast_output7(output)"
   ]
  }
 ],
 "metadata": {
  "kernelspec": {
   "display_name": "blaster",
   "language": "python",
   "name": "blaster"
  },
  "language_info": {
   "codemirror_mode": {
    "name": "ipython",
    "version": 3
   },
   "file_extension": ".py",
   "mimetype": "text/x-python",
   "name": "python",
   "nbconvert_exporter": "python",
   "pygments_lexer": "ipython3",
   "version": "3.11.5"
  }
 },
 "nbformat": 4,
 "nbformat_minor": 5
}
