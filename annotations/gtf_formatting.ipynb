{
 "cells": [
  {
   "cell_type": "markdown",
   "metadata": {},
   "source": [
    "## Libraries / Setup"
   ]
  },
  {
   "cell_type": "code",
   "execution_count": 16,
   "metadata": {},
   "outputs": [],
   "source": [
    "from biomart import BiomartServer\n",
    "import os\n",
    "import pandas as pd\n",
    "import sys\n",
    "import gtfparse\n"
   ]
  },
  {
   "cell_type": "code",
   "execution_count": 17,
   "metadata": {},
   "outputs": [],
   "source": [
    "ref_sheet=pd.read_csv('/home/matthew.schmitz/Reference_Genome_tracking.csv')\n",
    "ref_sheet=ref_sheet.loc[~ref_sheet['English Name'].isna(),:]"
   ]
  },
  {
   "cell_type": "code",
   "execution_count": 20,
   "metadata": {},
   "outputs": [
    {
     "data": {
      "text/plain": [
       "'/allen/programs/celltypes/workgroups/rnaseqanalysis/references/ferret/ncbi/asm1176430v1.1/genome/'"
      ]
     },
     "execution_count": 20,
     "metadata": {},
     "output_type": "execute_result"
    }
   ],
   "source": [
    "ref_sheet['CR6 ARC 2.0 reference in BICore folder'][0]"
   ]
  },
  {
   "cell_type": "code",
   "execution_count": 18,
   "metadata": {},
   "outputs": [
    {
     "name": "stdout",
     "output_type": "stream",
     "text": [
      "['transcripts.bed', 'tss.bed']\n",
      "[]\n",
      "['transcripts.bed', 'tss.bed']\n",
      "['transcripts.bed', 'tss.bed']\n",
      "['transcripts.bed', 'tss.bed']\n",
      "['transcripts.bed', 'tss.bed']\n",
      "['transcripts.bed', 'tss.bed']\n",
      "['transcripts.bed', 'tss.bed']\n"
     ]
    },
    {
     "ename": "FileNotFoundError",
     "evalue": "[Errno 2] No such file or directory: '<- to move over/regions'",
     "output_type": "error",
     "traceback": [
      "\u001b[0;31m---------------------------------------------------------------------------\u001b[0m",
      "\u001b[0;31mFileNotFoundError\u001b[0m                         Traceback (most recent call last)",
      "Cell \u001b[0;32mIn[18], line 2\u001b[0m\n\u001b[1;32m      1\u001b[0m \u001b[38;5;28;01mfor\u001b[39;00m i \u001b[38;5;129;01min\u001b[39;00m ref_sheet[\u001b[38;5;124m'\u001b[39m\u001b[38;5;124mCR6 ARC 2.0 reference in BICore folder\u001b[39m\u001b[38;5;124m'\u001b[39m]:\n\u001b[0;32m----> 2\u001b[0m     \u001b[38;5;28mprint\u001b[39m(os\u001b[38;5;241m.\u001b[39mlistdir(os\u001b[38;5;241m.\u001b[39mpath\u001b[38;5;241m.\u001b[39mjoin(i,\u001b[38;5;124m'\u001b[39m\u001b[38;5;124mregions\u001b[39m\u001b[38;5;124m'\u001b[39m)))\n",
      "\u001b[0;31mFileNotFoundError\u001b[0m: [Errno 2] No such file or directory: '<- to move over/regions'"
     ]
    }
   ],
   "source": [
    "for i in ref_sheet['CR6 ARC 2.0 reference in BICore folder']:\n",
    "    print(os.listdir(os.path.join(i,'regions')))"
   ]
  },
  {
   "cell_type": "code",
   "execution_count": 15,
   "metadata": {},
   "outputs": [
    {
     "name": "stdout",
     "output_type": "stream",
     "text": [
      "Thu Oct 12 17:24:51 2023       \n",
      "+---------------------------------------------------------------------------------------+\n",
      "| NVIDIA-SMI 530.30.02              Driver Version: 530.30.02    CUDA Version: 12.1     |\n",
      "|-----------------------------------------+----------------------+----------------------+\n",
      "| GPU  Name                  Persistence-M| Bus-Id        Disp.A | Volatile Uncorr. ECC |\n",
      "| Fan  Temp  Perf            Pwr:Usage/Cap|         Memory-Usage | GPU-Util  Compute M. |\n",
      "|                                         |                      |               MIG M. |\n",
      "|=========================================+======================+======================|\n",
      "|   0  NVIDIA A100-PCIE-40GB           On | 00000000:64:00.0 Off |                    0 |\n",
      "| N/A   27C    P0               31W / 250W|      0MiB / 40960MiB |      0%      Default |\n",
      "|                                         |                      |             Disabled |\n",
      "+-----------------------------------------+----------------------+----------------------+\n",
      "                                                                                         \n",
      "+---------------------------------------------------------------------------------------+\n",
      "| Processes:                                                                            |\n",
      "|  GPU   GI   CI        PID   Type   Process name                            GPU Memory |\n",
      "|        ID   ID                                                             Usage      |\n",
      "|=======================================================================================|\n",
      "|  No running processes found                                                           |\n",
      "+---------------------------------------------------------------------------------------+\n"
     ]
    }
   ],
   "source": [
    "!nvidia-smi"
   ]
  },
  {
   "attachments": {},
   "cell_type": "markdown",
   "metadata": {},
   "source": [
    "## Map gene symbol to ensemble ID using gtf files\n",
    "\n",
    "For later..."
   ]
  },
  {
   "cell_type": "code",
   "execution_count": 153,
   "metadata": {},
   "outputs": [],
   "source": [
    "species_to_codes = {\"gorilla\": \"ggorilla\",\n",
    "            \"chimp\": \"ptroglodytes\",\n",
    "            \"marmoset\": \"cjacchus\",\n",
    "            \"rhesus\": \"mmulatta\",\n",
    "            \"human\": \"hsapiens\"\n",
    "             }\n",
    "\n",
    "## Locations of gtf files to map symbole to ensemble ID\n",
    "gtf_paths = {\"gorilla\": \"/allen/programs/celltypes/workgroups/rnaseqanalysis/EvoGen/great_apes/species/inputs/Gorilla_gorilla.gorGor4.110.gtf\",\n",
    "            \"chimp\": \"/allen/programs/celltypes/workgroups/rnaseqanalysis/references/chimp/ncbi/pantro/premrna/genes/genes.gtf\",\n",
    "            \"marmoset\": \"/allen/programs/celltypes/workgroups/rnaseqanalysis/references/marmoset/ncbi/mcalja1.2.pat.x/genome/genes/genes.gtf\",\n",
    "            \"rhesus\": \"/allen/programs/celltypes/workgroups/rnaseqanalysis/references/macaque/ncbi/mmul10/genome/genes/genes.gtf\",\n",
    "            \"human\": \"/allen/programs/celltypes/workgroups/hct/SEA-AD/RNAseq/cellxgene/input/genes.gtf\"}\n",
    "\n",
    "gtfs={}\n",
    "for s in gtf_paths.keys():\n",
    "    print(s)\n",
    "    gtfs[s]=gtfparse.parse_gtf_and_expand_attributes(gtf_paths[s])\n",
    "\n",
    "#Just take a peek\n",
    "for s in gtfs.keys():\n",
    "    print(s,species_to_codes[s])\n",
    "    print(gtfs[s])\n"
   ]
  },
  {
   "cell_type": "markdown",
   "metadata": {},
   "source": [
    "## Load tables of unmapped genes"
   ]
  },
  {
   "cell_type": "code",
   "execution_count": 4,
   "metadata": {},
   "outputs": [],
   "source": [
    "gene_path='/home/matthew.schmitz/nhp_unmapped_genes'\n",
    "unmapped={}\n",
    "for p in os.listdir(gene_path):\n",
    "    if '.csv' in p:\n",
    "        s=p.split('_')[0]\n",
    "        unmapped[s]=pd.read_csv(os.path.join(gene_path,p))"
   ]
  },
  {
   "cell_type": "code",
   "execution_count": 196,
   "metadata": {
    "scrolled": true
   },
   "outputs": [
    {
     "name": "stdout",
     "output_type": "stream",
     "text": [
      "human\n",
      "50242\n",
      "chimp\n",
      "56936\n",
      "marmoset\n",
      "27125\n",
      "rhesus\n",
      "40278\n",
      "gorilla\n",
      "55217\n"
     ]
    }
   ],
   "source": [
    "for s in unmapped.keys():\n",
    "    print(s)\n",
    "    print(len(unmapped[s]['gene'].unique()))\n"
   ]
  },
  {
   "cell_type": "markdown",
   "metadata": {},
   "source": [
    "# Fetch most current biomart tables\n",
    "\n",
    "Also appears that many missing IDs are symbols mixed in, match across several columns table"
   ]
  },
  {
   "cell_type": "code",
   "execution_count": 190,
   "metadata": {},
   "outputs": [],
   "source": [
    "def download_biomart_table(dataset, filename):\n",
    "    #all_attributes = [x for x in dataset.attributes.keys() if 'hsapiens' in x]\n",
    "    all_attributes = [\n",
    "        'ensembl_gene_id',\n",
    "        'external_gene_name',\n",
    "        'hsapiens_homolog_associated_gene_name',\n",
    "        'hsapiens_homolog_ensembl_gene',\n",
    "        'hsapiens_homolog_orthology_confidence'\n",
    "    ]\n",
    "\n",
    "    response = dataset.search({\n",
    "        'attributes': all_attributes\n",
    "    }, header=1)  # header=1 will include the column names\n",
    "\n",
    "    with open(filename, 'wb') as f:\n",
    "        f.write('\\t'.join(all_attributes).encode('ascii')+b'\\n')\n",
    "        for line in response.iter_lines():\n",
    "            f.write(line + b'\\n')\n",
    "\n",
    "def find_matching_rows(strings, df,colnames=None):\n",
    "    matches = {}\n",
    "    if colnames is None:\n",
    "        colnames=df.columns\n",
    "    use_df=df.loc[:,colnames]\n",
    "    for s in tqdm.tqdm(strings):\n",
    "        mask = use_df.isin([s]).any(axis=1)\n",
    "        matches[s] = df[mask]\n",
    "    return matches\n",
    "\n",
    "def get_human_orthologs(species_name, identifiers, cache_path):\n",
    "    #Returns a dictionary of {original_key: dataframe of matched rows}\n",
    "    server = BiomartServer(\"http://www.ensembl.org/biomart\")\n",
    "    dataset_name = f\"{species_name.lower()}_gene_ensembl\"\n",
    "    \n",
    "    # Construct cache_path based on dataset_name\n",
    "    cache_name = os.path.join(cache_path,dataset_name + \"_table.txt\")\n",
    "    \n",
    "    dataset = server.datasets[dataset_name]\n",
    "\n",
    "    # Check cache and download if necessary\n",
    "    if not os.path.exists(cache_name):\n",
    "        print(\"Cache not found. Downloading BioMart table...\")\n",
    "        download_biomart_table(dataset, cache_name)\n",
    "        print(f\"Downloaded and saved to {cache_name}\")\n",
    "\n",
    "    # Read the table into a DataFrame\n",
    "    df = pd.read_csv(cache_name, sep='\\t', dtype=str)\n",
    "    \n",
    "    # Filter using Ensembl IDs and gene symbols and add 'original_identifier' column\n",
    "    #filtered_df = df[df['ensembl_gene_id'].isin(identifiers) | df['external_gene_name'].isin(identifiers)].copy()\n",
    "    #filtered_df['original_identifier'] = filtered_df.apply(lambda row: row['ensembl_gene_id'] if row['ensembl_gene_id'] in identifiers else row['external_gene_name'], axis=1)\n",
    "    #orthologs = {row['original_identifier']: row.drop('original_identifier').to_dict() for _, row in filtered_df.iterrows()}\n",
    "\n",
    "    orthologs=find_matching_rows(identifiers, df,df.columns[df.columns.str.contains('gene')])        \n",
    "    return orthologs\n"
   ]
  },
  {
   "cell_type": "code",
   "execution_count": null,
   "metadata": {},
   "outputs": [],
   "source": [
    "mapped={}\n",
    "for s in unmapped.keys():\n",
    "    print(s)\n",
    "    if s=='human':\n",
    "        continue\n",
    "    mapped[s]=get_human_orthologs(species_to_codes[s],unmapped[s]['gene'].unique(),cache_path='/home/matthew.schmitz/cache/')\n"
   ]
  },
  {
   "cell_type": "code",
   "execution_count": 156,
   "metadata": {},
   "outputs": [],
   "source": [
    "def concatenate_dataframes(dataframes,key_name='key'):\n",
    "    concatenated = pd.concat(dataframes.values(), keys=dataframes.keys(), axis=0).reset_index(level=1, drop=True).reset_index()\n",
    "    concatenated = concatenated.rename(columns={'index': key_name})\n",
    "    return concatenated\n",
    "\n",
    "mapped_dfs={}\n",
    "for s in mapped.keys():\n",
    "    mapped_dfs[s]=concatenate_dataframes(mapped[s],'original_id')"
   ]
  },
  {
   "cell_type": "code",
   "execution_count": 188,
   "metadata": {},
   "outputs": [],
   "source": [
    "for s in mapped_dfs.keys():\n",
    "    mapped_dfs[s].to_csv(os.path.join('/home/matthew.schmitz/nhp_unmapped_genes',s+'_mapped.txt'),sep='\\t',header=True)"
   ]
  },
  {
   "cell_type": "code",
   "execution_count": 159,
   "metadata": {},
   "outputs": [
    {
     "name": "stdout",
     "output_type": "stream",
     "text": [
      "(56954, 3)\n",
      "(22267, 6)\n",
      "(27126, 3)\n",
      "(15255, 6)\n",
      "(40280, 3)\n",
      "(17005, 6)\n",
      "(55218, 3)\n",
      "(31768, 6)\n"
     ]
    }
   ],
   "source": [
    "for s in mapped.keys():\n",
    "    print(unmapped[s].shape)\n",
    "    print(mapped_dfs[s].shape)"
   ]
  },
  {
   "cell_type": "code",
   "execution_count": 184,
   "metadata": {},
   "outputs": [
    {
     "data": {
      "text/html": [
       "<div>\n",
       "<style scoped>\n",
       "    .dataframe tbody tr th:only-of-type {\n",
       "        vertical-align: middle;\n",
       "    }\n",
       "\n",
       "    .dataframe tbody tr th {\n",
       "        vertical-align: top;\n",
       "    }\n",
       "\n",
       "    .dataframe thead th {\n",
       "        text-align: right;\n",
       "    }\n",
       "</style>\n",
       "<table border=\"1\" class=\"dataframe\">\n",
       "  <thead>\n",
       "    <tr style=\"text-align: right;\">\n",
       "      <th></th>\n",
       "      <th>original_id</th>\n",
       "      <th>ensembl_gene_id</th>\n",
       "      <th>external_gene_name</th>\n",
       "      <th>hsapiens_homolog_associated_gene_name</th>\n",
       "      <th>hsapiens_homolog_ensembl_gene</th>\n",
       "      <th>hsapiens_homolog_orthology_confidence</th>\n",
       "    </tr>\n",
       "  </thead>\n",
       "  <tbody>\n",
       "    <tr>\n",
       "      <th>203</th>\n",
       "      <td>ACTL10</td>\n",
       "      <td>ENSPTRG00000044260</td>\n",
       "      <td>NaN</td>\n",
       "      <td>ACTL10</td>\n",
       "      <td>ENSG00000288649</td>\n",
       "      <td>1</td>\n",
       "    </tr>\n",
       "    <tr>\n",
       "      <th>204</th>\n",
       "      <td>ACTL10</td>\n",
       "      <td>ENSPTRG00000047541</td>\n",
       "      <td>NaN</td>\n",
       "      <td>ACTL10</td>\n",
       "      <td>ENSG00000288649</td>\n",
       "      <td>1</td>\n",
       "    </tr>\n",
       "    <tr>\n",
       "      <th>218</th>\n",
       "      <td>ACTR2</td>\n",
       "      <td>ENSPTRG00000011990</td>\n",
       "      <td>NaN</td>\n",
       "      <td>ACTR2</td>\n",
       "      <td>ENSG00000138071</td>\n",
       "      <td>1</td>\n",
       "    </tr>\n",
       "    <tr>\n",
       "      <th>219</th>\n",
       "      <td>ACTR2</td>\n",
       "      <td>ENSPTRG00000033914</td>\n",
       "      <td>NaN</td>\n",
       "      <td>ACTR2</td>\n",
       "      <td>ENSG00000138071</td>\n",
       "      <td>0</td>\n",
       "    </tr>\n",
       "    <tr>\n",
       "      <th>287</th>\n",
       "      <td>ADAP1</td>\n",
       "      <td>ENSPTRG00000041621</td>\n",
       "      <td>NaN</td>\n",
       "      <td>ADAP1</td>\n",
       "      <td>ENSG00000105963</td>\n",
       "      <td>1</td>\n",
       "    </tr>\n",
       "    <tr>\n",
       "      <th>...</th>\n",
       "      <td>...</td>\n",
       "      <td>...</td>\n",
       "      <td>...</td>\n",
       "      <td>...</td>\n",
       "      <td>...</td>\n",
       "      <td>...</td>\n",
       "    </tr>\n",
       "    <tr>\n",
       "      <th>22199</th>\n",
       "      <td>ZNF91</td>\n",
       "      <td>ENSPTRG00000043231</td>\n",
       "      <td>NaN</td>\n",
       "      <td>ZNF91</td>\n",
       "      <td>ENSG00000167232</td>\n",
       "      <td>0</td>\n",
       "    </tr>\n",
       "    <tr>\n",
       "      <th>22200</th>\n",
       "      <td>ENSPTRG00000019240</td>\n",
       "      <td>ENSPTRG00000019240</td>\n",
       "      <td>ZNF92</td>\n",
       "      <td>ZNF723</td>\n",
       "      <td>ENSG00000268696</td>\n",
       "      <td>0</td>\n",
       "    </tr>\n",
       "    <tr>\n",
       "      <th>22201</th>\n",
       "      <td>ENSPTRG00000019240</td>\n",
       "      <td>ENSPTRG00000019240</td>\n",
       "      <td>ZNF92</td>\n",
       "      <td>ZNF737</td>\n",
       "      <td>ENSG00000237440</td>\n",
       "      <td>0</td>\n",
       "    </tr>\n",
       "    <tr>\n",
       "      <th>22257</th>\n",
       "      <td>ZXDA</td>\n",
       "      <td>ENSPTRG00000021962</td>\n",
       "      <td>NaN</td>\n",
       "      <td>ZXDA</td>\n",
       "      <td>ENSG00000198205</td>\n",
       "      <td>1</td>\n",
       "    </tr>\n",
       "    <tr>\n",
       "      <th>22258</th>\n",
       "      <td>ZXDA</td>\n",
       "      <td>ENSPTRG00000047457</td>\n",
       "      <td>NaN</td>\n",
       "      <td>ZXDA</td>\n",
       "      <td>ENSG00000198205</td>\n",
       "      <td>1</td>\n",
       "    </tr>\n",
       "  </tbody>\n",
       "</table>\n",
       "<p>1275 rows × 6 columns</p>\n",
       "</div>"
      ],
      "text/plain": [
       "              original_id     ensembl_gene_id external_gene_name  \\\n",
       "203                ACTL10  ENSPTRG00000044260                NaN   \n",
       "204                ACTL10  ENSPTRG00000047541                NaN   \n",
       "218                 ACTR2  ENSPTRG00000011990                NaN   \n",
       "219                 ACTR2  ENSPTRG00000033914                NaN   \n",
       "287                 ADAP1  ENSPTRG00000041621                NaN   \n",
       "...                   ...                 ...                ...   \n",
       "22199               ZNF91  ENSPTRG00000043231                NaN   \n",
       "22200  ENSPTRG00000019240  ENSPTRG00000019240              ZNF92   \n",
       "22201  ENSPTRG00000019240  ENSPTRG00000019240              ZNF92   \n",
       "22257                ZXDA  ENSPTRG00000021962                NaN   \n",
       "22258                ZXDA  ENSPTRG00000047457                NaN   \n",
       "\n",
       "      hsapiens_homolog_associated_gene_name hsapiens_homolog_ensembl_gene  \\\n",
       "203                                  ACTL10               ENSG00000288649   \n",
       "204                                  ACTL10               ENSG00000288649   \n",
       "218                                   ACTR2               ENSG00000138071   \n",
       "219                                   ACTR2               ENSG00000138071   \n",
       "287                                   ADAP1               ENSG00000105963   \n",
       "...                                     ...                           ...   \n",
       "22199                                 ZNF91               ENSG00000167232   \n",
       "22200                                ZNF723               ENSG00000268696   \n",
       "22201                                ZNF737               ENSG00000237440   \n",
       "22257                                  ZXDA               ENSG00000198205   \n",
       "22258                                  ZXDA               ENSG00000198205   \n",
       "\n",
       "      hsapiens_homolog_orthology_confidence  \n",
       "203                                       1  \n",
       "204                                       1  \n",
       "218                                       1  \n",
       "219                                       0  \n",
       "287                                       1  \n",
       "...                                     ...  \n",
       "22199                                     0  \n",
       "22200                                     0  \n",
       "22201                                     0  \n",
       "22257                                     1  \n",
       "22258                                     1  \n",
       "\n",
       "[1275 rows x 6 columns]"
      ]
     },
     "execution_count": 184,
     "metadata": {},
     "output_type": "execute_result"
    }
   ],
   "source": [
    "#Cases where one chimp symbol maps to multiple chimp ensids\n",
    "mapped_dfs['chimp'].loc[mapped_dfs['chimp']['original_id'].duplicated(keep=False),:]"
   ]
  },
  {
   "cell_type": "code",
   "execution_count": 185,
   "metadata": {},
   "outputs": [
    {
     "data": {
      "text/html": [
       "<div>\n",
       "<style scoped>\n",
       "    .dataframe tbody tr th:only-of-type {\n",
       "        vertical-align: middle;\n",
       "    }\n",
       "\n",
       "    .dataframe tbody tr th {\n",
       "        vertical-align: top;\n",
       "    }\n",
       "\n",
       "    .dataframe thead th {\n",
       "        text-align: right;\n",
       "    }\n",
       "</style>\n",
       "<table border=\"1\" class=\"dataframe\">\n",
       "  <thead>\n",
       "    <tr style=\"text-align: right;\">\n",
       "      <th></th>\n",
       "      <th>original_id</th>\n",
       "      <th>ensembl_gene_id</th>\n",
       "      <th>external_gene_name</th>\n",
       "      <th>hsapiens_homolog_associated_gene_name</th>\n",
       "      <th>hsapiens_homolog_ensembl_gene</th>\n",
       "      <th>hsapiens_homolog_orthology_confidence</th>\n",
       "    </tr>\n",
       "  </thead>\n",
       "  <tbody>\n",
       "    <tr>\n",
       "      <th>10717</th>\n",
       "      <td>NBPF12</td>\n",
       "      <td>ENSPTRG00000000232</td>\n",
       "      <td>NaN</td>\n",
       "      <td>NBPF12</td>\n",
       "      <td>ENSG00000268043</td>\n",
       "      <td>0</td>\n",
       "    </tr>\n",
       "    <tr>\n",
       "      <th>10715</th>\n",
       "      <td>NBPF10</td>\n",
       "      <td>ENSPTRG00000000232</td>\n",
       "      <td>NaN</td>\n",
       "      <td>NBPF10</td>\n",
       "      <td>ENSG00000271425</td>\n",
       "      <td>0</td>\n",
       "    </tr>\n",
       "    <tr>\n",
       "      <th>10714</th>\n",
       "      <td>NBPF1</td>\n",
       "      <td>ENSPTRG00000000232</td>\n",
       "      <td>NaN</td>\n",
       "      <td>NBPF1</td>\n",
       "      <td>ENSG00000219481</td>\n",
       "      <td>0</td>\n",
       "    </tr>\n",
       "    <tr>\n",
       "      <th>10718</th>\n",
       "      <td>NBPF14</td>\n",
       "      <td>ENSPTRG00000000232</td>\n",
       "      <td>NaN</td>\n",
       "      <td>NBPF14</td>\n",
       "      <td>ENSG00000270629</td>\n",
       "      <td>0</td>\n",
       "    </tr>\n",
       "    <tr>\n",
       "      <th>10728</th>\n",
       "      <td>NBPF9</td>\n",
       "      <td>ENSPTRG00000000232</td>\n",
       "      <td>NaN</td>\n",
       "      <td>NBPF9</td>\n",
       "      <td>ENSG00000269713</td>\n",
       "      <td>0</td>\n",
       "    </tr>\n",
       "    <tr>\n",
       "      <th>...</th>\n",
       "      <td>...</td>\n",
       "      <td>...</td>\n",
       "      <td>...</td>\n",
       "      <td>...</td>\n",
       "      <td>...</td>\n",
       "      <td>...</td>\n",
       "    </tr>\n",
       "    <tr>\n",
       "      <th>20588</th>\n",
       "      <td>TSPY2</td>\n",
       "      <td>ENSPTRG00000052575</td>\n",
       "      <td>NaN</td>\n",
       "      <td>TSPY2</td>\n",
       "      <td>ENSG00000168757</td>\n",
       "      <td>0</td>\n",
       "    </tr>\n",
       "    <tr>\n",
       "      <th>20582</th>\n",
       "      <td>TSPY1</td>\n",
       "      <td>ENSPTRG00000052575</td>\n",
       "      <td>NaN</td>\n",
       "      <td>TSPY1</td>\n",
       "      <td>ENSG00000258992</td>\n",
       "      <td>0</td>\n",
       "    </tr>\n",
       "    <tr>\n",
       "      <th>12282</th>\n",
       "      <td>PGA3</td>\n",
       "      <td>ENSPTRG00000052811</td>\n",
       "      <td>NaN</td>\n",
       "      <td>PGA3</td>\n",
       "      <td>ENSG00000229859</td>\n",
       "      <td>0</td>\n",
       "    </tr>\n",
       "    <tr>\n",
       "      <th>12288</th>\n",
       "      <td>PGA5</td>\n",
       "      <td>ENSPTRG00000052811</td>\n",
       "      <td>NaN</td>\n",
       "      <td>PGA5</td>\n",
       "      <td>ENSG00000256713</td>\n",
       "      <td>0</td>\n",
       "    </tr>\n",
       "    <tr>\n",
       "      <th>12285</th>\n",
       "      <td>PGA4</td>\n",
       "      <td>ENSPTRG00000052811</td>\n",
       "      <td>NaN</td>\n",
       "      <td>PGA4</td>\n",
       "      <td>ENSG00000229183</td>\n",
       "      <td>0</td>\n",
       "    </tr>\n",
       "  </tbody>\n",
       "</table>\n",
       "<p>731 rows × 6 columns</p>\n",
       "</div>"
      ],
      "text/plain": [
       "      original_id     ensembl_gene_id external_gene_name  \\\n",
       "10717      NBPF12  ENSPTRG00000000232                NaN   \n",
       "10715      NBPF10  ENSPTRG00000000232                NaN   \n",
       "10714       NBPF1  ENSPTRG00000000232                NaN   \n",
       "10718      NBPF14  ENSPTRG00000000232                NaN   \n",
       "10728       NBPF9  ENSPTRG00000000232                NaN   \n",
       "...           ...                 ...                ...   \n",
       "20588       TSPY2  ENSPTRG00000052575                NaN   \n",
       "20582       TSPY1  ENSPTRG00000052575                NaN   \n",
       "12282        PGA3  ENSPTRG00000052811                NaN   \n",
       "12288        PGA5  ENSPTRG00000052811                NaN   \n",
       "12285        PGA4  ENSPTRG00000052811                NaN   \n",
       "\n",
       "      hsapiens_homolog_associated_gene_name hsapiens_homolog_ensembl_gene  \\\n",
       "10717                                NBPF12               ENSG00000268043   \n",
       "10715                                NBPF10               ENSG00000271425   \n",
       "10714                                 NBPF1               ENSG00000219481   \n",
       "10718                                NBPF14               ENSG00000270629   \n",
       "10728                                 NBPF9               ENSG00000269713   \n",
       "...                                     ...                           ...   \n",
       "20588                                 TSPY2               ENSG00000168757   \n",
       "20582                                 TSPY1               ENSG00000258992   \n",
       "12282                                  PGA3               ENSG00000229859   \n",
       "12288                                  PGA5               ENSG00000256713   \n",
       "12285                                  PGA4               ENSG00000229183   \n",
       "\n",
       "      hsapiens_homolog_orthology_confidence  \n",
       "10717                                     0  \n",
       "10715                                     0  \n",
       "10714                                     0  \n",
       "10718                                     0  \n",
       "10728                                     0  \n",
       "...                                     ...  \n",
       "20588                                     0  \n",
       "20582                                     0  \n",
       "12282                                     0  \n",
       "12288                                     0  \n",
       "12285                                     0  \n",
       "\n",
       "[731 rows x 6 columns]"
      ]
     },
     "execution_count": 185,
     "metadata": {},
     "output_type": "execute_result"
    }
   ],
   "source": [
    "#cases where multiple chimp symbols map to a single ensid\n",
    "mapped_dfs['chimp'].loc[mapped_dfs['chimp']['ensembl_gene_id'].duplicated(keep=False),:].sort_values('ensembl_gene_id')"
   ]
  },
  {
   "cell_type": "code",
   "execution_count": 209,
   "metadata": {},
   "outputs": [
    {
     "name": "stdout",
     "output_type": "stream",
     "text": [
      "gorilla ggorilla\n"
     ]
    },
    {
     "name": "stderr",
     "output_type": "stream",
     "text": [
      "100%|██████████| 30084/30084 [02:10<00:00, 230.29it/s]\n"
     ]
    },
    {
     "name": "stdout",
     "output_type": "stream",
     "text": [
      "chimp ptroglodytes\n"
     ]
    },
    {
     "name": "stderr",
     "output_type": "stream",
     "text": [
      "100%|██████████| 59133/59133 [03:56<00:00, 250.38it/s]\n"
     ]
    },
    {
     "name": "stdout",
     "output_type": "stream",
     "text": [
      "marmoset cjacchus\n"
     ]
    },
    {
     "name": "stderr",
     "output_type": "stream",
     "text": [
      "100%|██████████| 35750/35750 [03:37<00:00, 164.17it/s]\n"
     ]
    },
    {
     "name": "stdout",
     "output_type": "stream",
     "text": [
      "rhesus mmulatta\n"
     ]
    },
    {
     "name": "stderr",
     "output_type": "stream",
     "text": [
      "100%|██████████| 35219/35219 [04:16<00:00, 137.14it/s]\n"
     ]
    }
   ],
   "source": [
    "gtf_outs={}\n",
    "for s in gtfs.keys():\n",
    "    print(s,species_to_codes[s])\n",
    "    if s=='human':\n",
    "        continue\n",
    "    intermediate=get_human_orthologs(species_to_codes[s],gtfs[s]['gene_id'].unique(),cache_path='/home/matthew.schmitz/cache/')\n",
    "    gtf_outs[s]=concatenate_dataframes(intermediate,'original_id')\n",
    "    gtf_outs[s].to_csv(os.path.join('/home/matthew.schmitz/nhp_unmapped_genes',s+'_mapped_whole_GTF.txt'),sep='\\t',header=True)"
   ]
  },
  {
   "cell_type": "code",
   "execution_count": null,
   "metadata": {},
   "outputs": [],
   "source": []
  }
 ],
 "metadata": {
  "kernelspec": {
   "display_name": "scanpy",
   "language": "python",
   "name": "scanpy"
  },
  "language_info": {
   "codemirror_mode": {
    "name": "ipython",
    "version": 3
   },
   "file_extension": ".py",
   "mimetype": "text/x-python",
   "name": "python",
   "nbconvert_exporter": "python",
   "pygments_lexer": "ipython3",
   "version": "3.11.5"
  }
 },
 "nbformat": 4,
 "nbformat_minor": 4
}
